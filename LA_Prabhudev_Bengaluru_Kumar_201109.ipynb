{
 "cells": [
  {
   "cell_type": "markdown",
   "metadata": {
    "deletable": false,
    "editable": false
   },
   "source": [
    "<div class=\"alert alert-block alert-info\" >\n",
    "    <h1>Machine Learning: Assignment 2</h1>\n",
    "    <h2>This is a two week assignment</h2>\n",
    "    <h3>General Information:</h3>\n",
    "    <p>Feel free to add cells if required.<br> Feel free to write your own function block to reduce the redundancy.<br> Answers belong into the corresponding cells (below the question). <br><br> If you encounter empty cells underneath the answer that can not be edited, please ignore them, they are for testing purposes.<br><br>When editing an assignment there can be the case that there are variables in the kernel. To make sure your assignment works, please restart the kernel and run all cells before submitting (e.g. via <i>Kernel -> Restart & Run All</i>). We don't consider that respective solution if you make this mistake (no excuse).</p>\n",
    "    <br><br><b> Give proper comments, follow camel case for the function name, use proper readable variable names to your coding, if you didn't follow the instructions there will be a reduction in the points</b><br><br>    \n",
    "    <h3>Submission:</h3>\n",
    "    <p>Use the following naming convention for your submissions: LA_FirstnameLastname_dateOfLecture, e.g LA_JohnDoe_YYMMDD\n",
    "     <br><br>Please submit your notebook via LEA. The assignment is due on <b>$21^{st}$ November, Saturday at 20:00.</b> </p>\n",
    "    <h3>Group Work:</h3>\n",
    "    <p>You are allowed to work in groups of up to two people. Please enter the UID (your username here) of each member of the group into the next cell. We apply plagiarism checking, so do not submit solutions from other people except your team members. If an assignment has a copied solution, the task will be graded with 0 points for all people with the same solution.</p>\n",
    "    <p><b>YOU SHOULD ONLY SUBMIT EXACTLY ONE PER GROUP</b></p>\n",
    "    <h3>Questions about the Assignment:</h3>\n",
    "    <p>If you have questions about the assignment please post them in the LEA forum before the deadline. Don't wait until the last day to post questions.</p></div>"
   ]
  },
  {
   "cell_type": "code",
   "execution_count": 1,
   "metadata": {
    "deletable": false
   },
   "outputs": [],
   "source": [
    "'''\n",
    "Group Work:\n",
    "Enter the UID (i.e. student2s) of each team member into the variables. \n",
    "If you work alone please leave the second variable empty, or extend the list if necessary.\n",
    "'''\n",
    "member1 = 'kmanju2s'\n",
    "member2 = 'pbenga2s'"
   ]
  },
  {
   "cell_type": "markdown",
   "metadata": {
    "deletable": false,
    "editable": false
   },
   "source": [
    "# Build a spam classifier using Naive Bayes[100 points]"
   ]
  },
  {
   "cell_type": "code",
   "execution_count": 2,
   "metadata": {
    "deletable": false
   },
   "outputs": [],
   "source": [
    "#Headers\n",
    "import pandas as pd\n",
    "import numpy as np\n",
    "import matplotlib.pyplot as plt\n",
    "import seaborn as sns\n",
    "import sklearn\n",
    "import re\n",
    "#Include your other headers here"
   ]
  },
  {
   "cell_type": "markdown",
   "metadata": {
    "deletable": false,
    "editable": false
   },
   "source": [
    "## Step 1:- Load your data[10 points]\n",
    "#### There are three datasets for training: TrainDataset1.csv, TrainDataset2.csv and TrainDataset3.txt. Each dataset contains short messages with the labels (ham or spam). Load the dataset using pandas."
   ]
  },
  {
   "cell_type": "code",
   "execution_count": 3,
   "metadata": {
    "deletable": false
   },
   "outputs": [
    {
     "name": "stdout",
     "output_type": "stream",
     "text": [
      "Dataset 1 contatin :\n",
      "      type                                               text\n",
      "0      ham  Hope you are having a good week. Just checking in\n",
      "1      ham                            K..give back my thanks.\n",
      "2      ham        Am also doing in cbe only. But have to pay.\n",
      "3     spam  complimentary 4 STAR Ibiza Holiday or £10,000 ...\n",
      "4     spam  okmail: Dear Dave this is your final notice to...\n",
      "5      ham  Aiya we discuss later lar... Pick u up at 4 is...\n",
      "6      ham                             Are you this much buzy\n",
      "7      ham                    Please ask mummy to call father\n",
      "8     spam  Marvel Mobile Play the official Ultimate Spide...\n",
      "9      ham     fyi I'm at usf now, swing by the room whenever\n",
      "10     ham  Sure thing big man. i have hockey elections at...\n",
      "11     ham                                  I anything lor...\n",
      "12     ham  By march ending, i should be ready. But will c...\n",
      "13     ham                             Hmm well, night night \n",
      "14     ham  K I'll be sure to get up before noon and see w...\n",
      "15     ham             Ha ha cool cool chikku chikku:-):-DB-)\n",
      "16     ham  Darren was saying dat if u meeting da ge den w...\n",
      "17     ham  He dint tell anything. He is angry on me that ...\n",
      "18     ham  Up to u... u wan come then come lor... But i d...\n",
      "19    spam  U can WIN £100 of Music Gift Vouchers every we...\n",
      "20     ham     2mro i am not coming to gym machan. Goodnight.\n",
      "21     ham  ARR birthday today:) i wish him to get more os...\n",
      "22     ham  Reading gud habit.. Nan bari hudgi yorge patai...\n",
      "23     ham  I sent my scores to sophas and i had to do sec...\n",
      "24     ham    Could you not read me, my Love ? I answered you\n",
      "25     ham          So what did the bank say about the money?\n",
      "26     ham  Well if I'm that desperate I'll just call arma...\n",
      "27     ham                Fuuuuck I need to stop sleepin, sup\n",
      "28     ham                   So how's the weather over there?\n",
      "29     ham                                        Ok thanx...\n",
      "...    ...                                                ...\n",
      "5529   ham                         Ya:)going for restaurant..\n",
      "5530   ham                           At home watching tv lor.\n",
      "5531   ham  No, I decided that only people who care about ...\n",
      "5532  spam  Sunshine Quiz Wkly Q! Win a top Sony DVD playe...\n",
      "5533   ham                       Ok lor thanx... u in school?\n",
      "5534   ham  She said,'' do u mind if I go into the bedroom...\n",
      "5535   ham                                              Ok...\n",
      "5536   ham  No dice, art class 6 thru 9 :( thanks though. ...\n",
      "5537   ham           Good night my dear.. Sleepwell&Take care\n",
      "5538  spam  HOT LIVE FANTASIES call now 08707509020 Just 2...\n",
      "5539   ham   G says you never answer your texts, confirm/deny\n",
      "5540   ham       Yes but I don't care cause I know its there!\n",
      "5541   ham            Dear how is chechi. Did you talk to her\n",
      "5542   ham  Lmao ok I wont be needing u to do my hair anym...\n",
      "5543   ham  What's up my own oga. Left my phone at home an...\n",
      "5544   ham  And stop wondering wow is she ever going to st...\n",
      "5545   ham                      What happened to our yo date?\n",
      "5546   ham              Damn, poor zac doesn't stand a chance\n",
      "5547   ham              Ya very nice. . .be ready on thursday\n",
      "5548   ham  ER, ENJOYIN INDIANS AT THE MO..yeP. SaLL gOoD ...\n",
      "5549   ham                    Hey! There's veggie pizza... :/\n",
      "5550   ham  I have 2 sleeping bags, 1 blanket and paper an...\n",
      "5551  spam  Ur balance is now £500. Ur next question is: W...\n",
      "5552   ham                      Already one guy loving you:-.\n",
      "5553   ham               Prepare to be pounded every night...\n",
      "5554   ham  You are a great role model. You are giving so ...\n",
      "5555   ham  Awesome, I remember the last time we got someb...\n",
      "5556  spam  If you don't, your prize will go to another cu...\n",
      "5557  spam  SMS. ac JSco: Energy is high, but u may not kn...\n",
      "5558   ham                    Shall call now dear having food\n",
      "\n",
      "[5559 rows x 2 columns]\n",
      "Dataset 2 contain :\n",
      "        v1                                                 v2\n",
      "0     spam  U were outbid by simonwatson5120 on the Shinco...\n",
      "1      ham                     Do you still have the grinder?\n",
      "2      ham                     No. Yes please. Been swimming?\n",
      "3      ham    No de.am seeing in online shop so that i asked.\n",
      "4      ham  Faith makes things possible,Hope makes things ...\n",
      "5      ham                            Hey u still at the gym?\n",
      "6      ham                  Where is that one day training:-)\n",
      "7      ham  Did I forget to tell you ? I want you , I need...\n",
      "8      ham         I dont thnk its a wrong calling between us\n",
      "9     spam  December only! Had your mobile 11mths+? You ar...\n",
      "10     ham  That way transport is less problematic than on...\n",
      "11     ham  Storming msg: Wen u lift d phne, u say \\HELLO\\...\n",
      "12     ham      Awesome, that gonna be soon or later tonight?\n",
      "13     ham                                     What's ur pin?\n",
      "14     ham             , how's things? Just a quick question.\n",
      "15    spam  UpgrdCentre Orange customer, you may now claim...\n",
      "16     ham  \\Hello-/@drivby-:0quit edrunk sorry iff pthis ...\n",
      "17     ham                     Can. Dunno wat to get 4 her...\n",
      "18     ham  Hi this is yijue... It's regarding the 3230 te...\n",
      "19    spam  YOUR CHANCE TO BE ON A REALITY FANTASY SHOW ca...\n",
      "20     ham  Actually, my mobile is full of msg. And i m do...\n",
      "21     ham  I wonder if your phone battery went dead ? I h...\n",
      "22     ham                Vikky, come around  &lt;TIME&gt; ..\n",
      "23     ham                 Do you know when dad will be back?\n",
      "24     ham  Hi. Happy New Year. I dont mean to intrude but...\n",
      "25     ham  Wah... Okie okie... Muz make use of e unlimite...\n",
      "26     ham  Its a valentine game. . . send dis msg to all ...\n",
      "27     ham                      IÛ÷ll leave around four, ok?\n",
      "28     ham  Well welp is sort of a semiobscure internet thing\n",
      "29    spam  Double mins and txts 4 6months FREE Bluetooth ...\n",
      "...    ...                                                ...\n",
      "4427   ham                     Omg how did u know what I ate?\n",
      "4428   ham  I know you are thinkin malaria. But relax, chi...\n",
      "4429  spam  FreeMsg Hi baby wow just got a new cam moby. W...\n",
      "4430   ham                          On the way to office da..\n",
      "4431   ham                  I have lost 10 kilos as of today!\n",
      "4432   ham  Carlos says we can pick up from him later so y...\n",
      "4433   ham  So Ì_ pay first lar... Then when is da stock c...\n",
      "4434   ham                         K.k:)advance happy pongal.\n",
      "4435   ham             Ok... Let u noe when i leave my house.\n",
      "4436   ham         It'll be tough, but I'll do what I have to\n",
      "4437   ham  Fun fact: although you would think armand woul...\n",
      "4438   ham             Its ok., i just askd did u knw tht no?\n",
      "4439   ham  i felt so...not any conveying reason.. Ese he....\n",
      "4440   ham  Badrith is only for chennai:)i will surely pic...\n",
      "4441   ham  IÛ÷ve got some salt, you can rub it in my ope...\n",
      "4442   ham  Yeah imma come over cause jay wants to do some...\n",
      "4443  spam  You've won tkts to the EURO2004 CUP FINAL or å...\n",
      "4444   ham               Wat time r Ì_ going to xin's hostel?\n",
      "4445   ham                        What you doing?how are you?\n",
      "4446   ham                                        Lmao!nice 1\n",
      "4447   ham  Goodmorning, today i am late for  &lt;DECIMAL&...\n",
      "4448   ham  Ya i knw u vl giv..its ok thanks kano..anyway ...\n",
      "4449   ham  Better than bb. If he wont use it, his wife wi...\n",
      "4450   ham                       I donno if they are scorable\n",
      "4451  spam  Text PASS to 69669 to collect your polyphonic ...\n",
      "4452   ham               Good. Good job. I like entrepreneurs\n",
      "4453   ham  Living is very simple.. Loving is also simple....\n",
      "4454   ham  Msgs r not time pass.They silently say that I ...\n",
      "4455   ham     What is this 'hex' place you talk of? Explain!\n",
      "4456   ham                             Sorry, I'll call later\n",
      "\n",
      "[4457 rows x 2 columns]\n",
      "Dataset 3 contain :\n",
      "       ham  \\\n",
      "0      ham   \n",
      "1     spam   \n",
      "2      ham   \n",
      "3      ham   \n",
      "4     spam   \n",
      "5      ham   \n",
      "6      ham   \n",
      "7     spam   \n",
      "8     spam   \n",
      "9      ham   \n",
      "10    spam   \n",
      "11    spam   \n",
      "12     ham   \n",
      "13     ham   \n",
      "14    spam   \n",
      "15     ham   \n",
      "16     ham   \n",
      "17     ham   \n",
      "18    spam   \n",
      "19     ham   \n",
      "20     ham   \n",
      "21     ham   \n",
      "22     ham   \n",
      "23     ham   \n",
      "24     ham   \n",
      "25     ham   \n",
      "26     ham   \n",
      "27     ham   \n",
      "28     ham   \n",
      "29     ham   \n",
      "...    ...   \n",
      "5541   ham   \n",
      "5542   ham   \n",
      "5543   ham   \n",
      "5544   ham   \n",
      "5545   ham   \n",
      "5546  spam   \n",
      "5547   ham   \n",
      "5548   ham   \n",
      "5549   ham   \n",
      "5550   ham   \n",
      "5551   ham   \n",
      "5552   ham   \n",
      "5553   ham   \n",
      "5554   ham   \n",
      "5555   ham   \n",
      "5556   ham   \n",
      "5557   ham   \n",
      "5558   ham   \n",
      "5559   ham   \n",
      "5560   ham   \n",
      "5561   ham   \n",
      "5562   ham   \n",
      "5563   ham   \n",
      "5564   ham   \n",
      "5565  spam   \n",
      "5566  spam   \n",
      "5567   ham   \n",
      "5568   ham   \n",
      "5569   ham   \n",
      "5570   ham   \n",
      "\n",
      "     Go until jurong point, crazy.. Available only in bugis n great world la e buffet... Cine there got amore wat...  \n",
      "0                         Ok lar... Joking wif u oni...                                                               \n",
      "1     Free entry in 2 a wkly comp to win FA Cup fina...                                                               \n",
      "2     U dun say so early hor... U c already then say...                                                               \n",
      "3     Nah I don't think he goes to usf, he lives aro...                                                               \n",
      "4     FreeMsg Hey there darling it's been 3 week's n...                                                               \n",
      "5     Even my brother is not like to speak with me. ...                                                               \n",
      "6     As per your request 'Melle Melle (Oru Minnamin...                                                               \n",
      "7     WINNER!! As a valued network customer you have...                                                               \n",
      "8     Had your mobile 11 months or more? U R entitle...                                                               \n",
      "9     I'm gonna be home soon and i don't want to tal...                                                               \n",
      "10    SIX chances to win CASH! From 100 to 20,000 po...                                                               \n",
      "11    URGENT! You have won a 1 week FREE membership ...                                                               \n",
      "12    I've been searching for the right words to tha...                                                               \n",
      "13                  I HAVE A DATE ON SUNDAY WITH WILL!!                                                               \n",
      "14    XXXMobileMovieClub: To use your credit, click ...                                                               \n",
      "15                           Oh k...i'm watching here:)                                                               \n",
      "16    Eh u remember how 2 spell his name... Yes i di...                                                               \n",
      "17    Fine if thats the way u feel. Thats the way ...                                                               \n",
      "18    England v Macedonia - dont miss the goals/team...                                                               \n",
      "19            Is that seriously how you spell his name?                                                               \n",
      "20      I‘m going to try for 2 months ha ha only joking                                                               \n",
      "21    So ü pay first lar... Then when is da stock co...                                                               \n",
      "22    Aft i finish my lunch then i go str down lor. ...                                                               \n",
      "23    Ffffffffff. Alright no way I can meet up with ...                                                               \n",
      "24    Just forced myself to eat a slice. I'm really ...                                                               \n",
      "25                       Lol your always so convincing.                                                               \n",
      "26    Did you catch the bus ? Are you frying an egg ...                                                               \n",
      "27    I'm back &amp; we're packing the car now, I'll...                                                               \n",
      "28    Ahhh. Work. I vaguely remember that! What does...                                                               \n",
      "29    Wait that's still not all that clear, were you...                                                               \n",
      "...                                                 ...                                                               \n",
      "5541           Armand says get your ass over to epsilon                                                               \n",
      "5542             U still havent got urself a jacket ah?                                                               \n",
      "5543  I'm taking derek &amp; taylor to walmart, if I...                                                               \n",
      "5544      Hi its in durban are you still on this number                                                               \n",
      "5545         Ic. There are a lotta childporn cars then.                                                               \n",
      "5546  Had your contract mobile 11 Mnths? Latest Moto...                                                               \n",
      "5547                 No, I was trying it all weekend ;V                                                               \n",
      "5548  You know, wot people wear. T shirts, jumpers, ...                                                               \n",
      "5549        Cool, what time you think you can get here?                                                               \n",
      "5550  Wen did you get so spiritual and deep. That's ...                                                               \n",
      "5551  Have a safe trip to Nigeria. Wish you happines...                                                               \n",
      "5552                        Hahaha..use your brain dear                                                               \n",
      "5553  Well keep in mind I've only got enough gas for...                                                               \n",
      "5554  Yeh. Indians was nice. Tho it did kane me off ...                                                               \n",
      "5555  Yes i have. So that's why u texted. Pshew...mi...                                                               \n",
      "5556  No. I meant the calculation is the same. That ...                                                               \n",
      "5557                             Sorry, I'll call later                                                               \n",
      "5558  if you aren't here in the next  &lt;#&gt;  hou...                                                               \n",
      "5559                  Anything lor. Juz both of us lor.                                                               \n",
      "5560  Get me out of this dump heap. My mom decided t...                                                               \n",
      "5561  Ok lor... Sony ericsson salesman... I ask shuh...                                                               \n",
      "5562                                Ard 6 like dat lor.                                                               \n",
      "5563  Why don't you wait 'til at least wednesday to ...                                                               \n",
      "5564                                       Huh y lei...                                                               \n",
      "5565  REMINDER FROM O2: To get 2.50 pounds free call...                                                               \n",
      "5566  This is the 2nd time we have tried 2 contact u...                                                               \n",
      "5567               Will ü b going to esplanade fr home?                                                               \n",
      "5568  Pity, * was in mood for that. So...any other s...                                                               \n",
      "5569  The guy did some bitching but I acted like i'd...                                                               \n",
      "5570                         Rofl. Its true to its name                                                               \n",
      "\n",
      "[5571 rows x 2 columns]\n",
      "       type                                               text\n",
      "0       ham  Hope you are having a good week. Just checking in\n",
      "1       ham                            K..give back my thanks.\n",
      "2       ham        Am also doing in cbe only. But have to pay.\n",
      "3      spam  complimentary 4 STAR Ibiza Holiday or £10,000 ...\n",
      "4      spam  okmail: Dear Dave this is your final notice to...\n",
      "5       ham  Aiya we discuss later lar... Pick u up at 4 is...\n",
      "6       ham                             Are you this much buzy\n",
      "7       ham                    Please ask mummy to call father\n",
      "8      spam  Marvel Mobile Play the official Ultimate Spide...\n",
      "9       ham     fyi I'm at usf now, swing by the room whenever\n",
      "10      ham  Sure thing big man. i have hockey elections at...\n",
      "11      ham                                  I anything lor...\n",
      "12      ham  By march ending, i should be ready. But will c...\n",
      "13      ham                             Hmm well, night night \n",
      "14      ham  K I'll be sure to get up before noon and see w...\n",
      "15      ham             Ha ha cool cool chikku chikku:-):-DB-)\n",
      "16      ham  Darren was saying dat if u meeting da ge den w...\n",
      "17      ham  He dint tell anything. He is angry on me that ...\n",
      "18      ham  Up to u... u wan come then come lor... But i d...\n",
      "19     spam  U can WIN £100 of Music Gift Vouchers every we...\n",
      "20      ham     2mro i am not coming to gym machan. Goodnight.\n",
      "21      ham  ARR birthday today:) i wish him to get more os...\n",
      "22      ham  Reading gud habit.. Nan bari hudgi yorge patai...\n",
      "23      ham  I sent my scores to sophas and i had to do sec...\n",
      "24      ham    Could you not read me, my Love ? I answered you\n",
      "25      ham          So what did the bank say about the money?\n",
      "26      ham  Well if I'm that desperate I'll just call arma...\n",
      "27      ham                Fuuuuck I need to stop sleepin, sup\n",
      "28      ham                   So how's the weather over there?\n",
      "29      ham                                        Ok thanx...\n",
      "...     ...                                                ...\n",
      "15557   ham           Armand says get your ass over to epsilon\n",
      "15558   ham             U still havent got urself a jacket ah?\n",
      "15559   ham  I'm taking derek &amp; taylor to walmart, if I...\n",
      "15560   ham      Hi its in durban are you still on this number\n",
      "15561   ham         Ic. There are a lotta childporn cars then.\n",
      "15562  spam  Had your contract mobile 11 Mnths? Latest Moto...\n",
      "15563   ham                 No, I was trying it all weekend ;V\n",
      "15564   ham  You know, wot people wear. T shirts, jumpers, ...\n",
      "15565   ham        Cool, what time you think you can get here?\n",
      "15566   ham  Wen did you get so spiritual and deep. That's ...\n",
      "15567   ham  Have a safe trip to Nigeria. Wish you happines...\n",
      "15568   ham                        Hahaha..use your brain dear\n",
      "15569   ham  Well keep in mind I've only got enough gas for...\n",
      "15570   ham  Yeh. Indians was nice. Tho it did kane me off ...\n",
      "15571   ham  Yes i have. So that's why u texted. Pshew...mi...\n",
      "15572   ham  No. I meant the calculation is the same. That ...\n",
      "15573   ham                             Sorry, I'll call later\n",
      "15574   ham  if you aren't here in the next  &lt;#&gt;  hou...\n",
      "15575   ham                  Anything lor. Juz both of us lor.\n",
      "15576   ham  Get me out of this dump heap. My mom decided t...\n",
      "15577   ham  Ok lor... Sony ericsson salesman... I ask shuh...\n",
      "15578   ham                                Ard 6 like dat lor.\n",
      "15579   ham  Why don't you wait 'til at least wednesday to ...\n",
      "15580   ham                                       Huh y lei...\n",
      "15581  spam  REMINDER FROM O2: To get 2.50 pounds free call...\n",
      "15582  spam  This is the 2nd time we have tried 2 contact u...\n",
      "15583   ham               Will ü b going to esplanade fr home?\n",
      "15584   ham  Pity, * was in mood for that. So...any other s...\n",
      "15585   ham  The guy did some bitching but I acted like i'd...\n",
      "15586   ham                         Rofl. Its true to its name\n",
      "\n",
      "[15587 rows x 2 columns]\n"
     ]
    }
   ],
   "source": [
    "#Load your dataset in this cell\n",
    "def loadData():\n",
    "    #your code\n",
    "    data1=pd.read_csv(r'TrainDataset1.csv')\n",
    "    data2=pd.read_csv(r'TrainDataset2.csv')\n",
    "    data3 = pd.read_csv('TrainDataset3.txt', delimiter='\\t')\n",
    "    return data1,data2,data3\n",
    "dataset1,dataset2,dataset3=loadData()\n",
    "\n",
    "print(\"Dataset 1 contatin :\")\n",
    "print(dataset1)\n",
    "print(\"Dataset 2 contain :\")\n",
    "print(dataset2)\n",
    "print(\"Dataset 3 contain :\")\n",
    "print(dataset3)\n",
    "\n",
    "training_data = pd.DataFrame(np.concatenate([dataset1.values, dataset2.values, dataset3.values]), columns=dataset1.columns)\n",
    "print(training_data)   "
   ]
  },
  {
   "cell_type": "markdown",
   "metadata": {
    "deletable": false,
    "editable": false
   },
   "source": [
    "## Step 2:- Preprocess the data[20 points]\n",
    "#### Analyse the data, for this you will need to process the text, namely remove punctuation and stopwords, and then create a list of clean text words (Research how to do this [Hint:- see how the texts are pre-processed in Natural Language Processing]) use any libraries that you feel comfortable. Now Combine them into one big data set for the training."
   ]
  },
  {
   "cell_type": "code",
   "execution_count": null,
   "metadata": {},
   "outputs": [],
   "source": []
  },
  {
   "cell_type": "code",
   "execution_count": 4,
   "metadata": {
    "deletable": false
   },
   "outputs": [],
   "source": [
    "# #Pre-process the data\n",
    "\n",
    "import nltk\n",
    "from nltk.tokenize import word_tokenize\n",
    "from nltk.corpus import stopwords\n",
    "from nltk.stem import WordNetLemmatizer\n",
    "from nltk.stem import PorterStemmer\n",
    "import string\n",
    "\n",
    "\n",
    "lemma=WordNetLemmatizer()\n",
    "\n",
    "def preprocess(text):\n",
    "\n",
    "    text=[char for char in text if char not in string.punctuation]\n",
    "    text=''.join(text)\n",
    "    text=[word for word in text.split() if word.lower() not in stopwords.words('english')]\n",
    "    text=[PorterStemmer().stem(words) for words in text]\n",
    "    text=[lemma.lemmatize(word=w,pos='v') for w in text]\n",
    "    return text\n",
    "\n",
    "\n"
   ]
  },
  {
   "cell_type": "markdown",
   "metadata": {
    "deletable": false,
    "editable": false
   },
   "source": [
    "## Step 3:- Visualise the data[20 points]\n",
    "#### Try to visualize and analyse the data such as before and after pre processing, number of ham/spam etc. Analyse as many verticals you can, feel free to use graphical libraries like seaborn."
   ]
  },
  {
   "cell_type": "code",
   "execution_count": 5,
   "metadata": {
    "deletable": false
   },
   "outputs": [
    {
     "name": "stdout",
     "output_type": "stream",
     "text": [
      "Bar chart:-\n",
      "\n"
     ]
    },
    {
     "data": {
      "image/png": "[encoded data removed]",
      "text/plain": [
       "<Figure size 432x288 with 1 Axes>"
      ]
     },
     "metadata": {
      "needs_background": "light"
     },
     "output_type": "display_data"
    },
    {
     "name": "stdout",
     "output_type": "stream",
     "text": [
      "Pie chart:-\n",
      "\n"
     ]
    },
    {
     "data": {
      "image/png": "[encoded data removed]",
      "text/plain": [
       "<Figure size 432x288 with 1 Axes>"
      ]
     },
     "metadata": {},
     "output_type": "display_data"
    }
   ],
   "source": [
    "# Visualise the data   \n",
    "#your code here\n",
    "\n",
    "print(\"Bar chart:-\\n\")\n",
    "ham_count1, spam_count1 = training_data.type.value_counts()\n",
    "plt.bar([\"ham\", \"spam\"], [ham_count1, spam_count1], color=['blue', 'red'])\n",
    "plt.title(\"Training dataset(combined data)\")\n",
    "plt.xlabel='length'\n",
    "plt.ylabel='number of messages'\n",
    "plt.show()\n",
    "\n",
    "\n",
    "print(\"Pie chart:-\\n\")\n",
    "ham_count1, spam_count1 = dataset1.type.value_counts()\n",
    "labels = 'spam', 'ham'\n",
    "fig1,ax1 = plt.subplots()\n",
    "ax1.pie([ham_count1,spam_count1], labels=labels,colors=['blue', 'red'],autopct='%1.1f%%')\n",
    "plt.title(\"Training dataset(combined data)\")\n",
    "ax1.axis('equal')\n",
    "plt.show()\n"
   ]
  },
  {
   "cell_type": "markdown",
   "metadata": {
    "deletable": false,
    "editable": false
   },
   "source": [
    "## Step 4:- Build, train and validate the classifer, [20 points]\n",
    "\n",
    "### Training on supervised data (labelled data)\n",
    "\n",
    "#### Use the data in order to build your own Naive Bayes classifier (You can either use existing Naive Bayes from sklearn or build your own). Build the classifier, train it and then validate. Provide your result in confusion matrix (use heatmap from seaborn) along with the classification report from sklearn. Validation accuracy should be around 99%."
   ]
  },
  {
   "cell_type": "code",
   "execution_count": 6,
   "metadata": {
    "deletable": false
   },
   "outputs": [
    {
     "name": "stdout",
     "output_type": "stream",
     "text": [
      "Accuracy: 98.8454137267479 %\n",
      "Classification_report: \n",
      "               precision    recall  f1-score   support\n",
      "\n",
      "           0       0.99      1.00      0.99      2689\n",
      "           1       1.00      0.92      0.96       429\n",
      "\n",
      "    accuracy                           0.99      3118\n",
      "   macro avg       0.99      0.96      0.97      3118\n",
      "weighted avg       0.99      0.99      0.99      3118\n",
      "\n"
     ]
    },
    {
     "data": {
      "text/plain": [
       "<matplotlib.axes._subplots.AxesSubplot at 0x7f3a5a029198>"
      ]
     },
     "execution_count": 6,
     "metadata": {},
     "output_type": "execute_result"
    },
    {
     "data": {
      "image/png": "[encoded data removed]",
      "text/plain": [
       "<Figure size 432x288 with 2 Axes>"
      ]
     },
     "metadata": {
      "needs_background": "light"
     },
     "output_type": "display_data"
    }
   ],
   "source": [
    "# Build, train and validate the classifier, \n",
    "#your code here\n",
    "from sklearn.feature_extraction.text import TfidfVectorizer \n",
    "from sklearn.naive_bayes import MultinomialNB\n",
    "from sklearn.metrics import classification_report, confusion_matrix, accuracy_score\n",
    "from sklearn.model_selection import train_test_split\n",
    "from sklearn.pipeline import Pipeline\n",
    "from collections import Counter\n",
    "\n",
    "#Considering spam messages as 1 and ham messages as 0\n",
    "training_data['spam'] = training_data['type'].map( {'spam': 1, 'ham': 0} ).astype(int)   \n",
    "\n",
    "x_train, x_validate, y_train, y_validate = train_test_split(training_data[\"text\"], training_data[\"spam\"], test_size=0.2, random_state=5)\n",
    "\n",
    "\n",
    "My_pipeline = Pipeline([\n",
    "    ('vectorizer',TfidfVectorizer(analyzer=preprocess)),       #Vectorizing\n",
    "    ('classifier',MultinomialNB())                             #NB classifier\n",
    "])\n",
    "\n",
    "#Training the classifier\n",
    "My_pipeline.fit(x_train,y_train)\n",
    "\n",
    "#Prediction using validation data\n",
    "predicted_validation_data = My_pipeline.predict(x_validate)\n",
    "\n",
    "\n",
    "#Calculating accuracy\n",
    "accuracy = accuracy_score(y_validate, predicted_validation_data)\n",
    "print(\"Accuracy:\",accuracy*100,\"%\")\n",
    "\n",
    "#Constructing the classification report\n",
    "report = classification_report(y_validate, predicted_validation_data)\n",
    "print(\"Classification_report: \\n\", report)\n",
    "\n",
    "#Constucting the confusion matrix and visualizing it using heatmap\n",
    "confusion_matrix_validation_data = confusion_matrix(y_validate, predicted_validation_data)\n",
    "sns.heatmap(confusion_matrix_validation_data, annot=True)\n"
   ]
  },
  {
   "cell_type": "markdown",
   "metadata": {
    "deletable": false,
    "editable": false
   },
   "source": [
    "## Step 5:- Test the classifier[10 points]\n",
    "\n",
    "### Supervised classification[5 points] \n",
    "\n",
    "#### Test your Classifier using  the SMSSpamCollection.txt dataset provide a heatmap and classification report. Test accuracy should be around 99%.\n"
   ]
  },
  {
   "cell_type": "code",
   "execution_count": 7,
   "metadata": {
    "deletable": false
   },
   "outputs": [
    {
     "name": "stdout",
     "output_type": "stream",
     "text": [
      "Accuracy: 99.03069466882067 %\n",
      "Classification_report: \n",
      "               precision    recall  f1-score   support\n",
      "\n",
      "           0       0.99      1.00      0.99      4824\n",
      "           1       1.00      0.93      0.96       747\n",
      "\n",
      "    accuracy                           0.99      5571\n",
      "   macro avg       0.99      0.96      0.98      5571\n",
      "weighted avg       0.99      0.99      0.99      5571\n",
      "\n"
     ]
    },
    {
     "data": {
      "text/plain": [
       "<matplotlib.axes._subplots.AxesSubplot at 0x7f3a59efd2b0>"
      ]
     },
     "execution_count": 7,
     "metadata": {},
     "output_type": "execute_result"
    },
    {
     "data": {
      "image/png": "[encoded data removed]",
      "text/plain": [
       "<Figure size 432x288 with 2 Axes>"
      ]
     },
     "metadata": {
      "needs_background": "light"
     },
     "output_type": "display_data"
    }
   ],
   "source": [
    "# Test the classifier\n",
    "#your code here\n",
    "\n",
    "#Loading the data\n",
    "labelled_test_dataset = pd.read_csv('SMSSpamCollection.txt', delimiter='\\t')\n",
    "labelled_test_dataset.columns = ['type', 'text']\n",
    "\n",
    "#Considering spam messages as 1 and ham messages as 0\n",
    "labelled_test_dataset['spam'] = labelled_test_dataset['type'].map( {'spam': 1, 'ham': 0} ).astype(int)\n",
    "\n",
    "#Prediction of labelled dataset\n",
    "predicted_labelled_data = My_pipeline.predict(labelled_test_dataset[\"text\"])\n",
    "\n",
    "#Accuracy of labelled dataset\n",
    "accuracy_labelled_data = accuracy_score(labelled_test_dataset[\"spam\"], predicted_labelled_data)\n",
    "print(\"Accuracy:\",accuracy_labelled_data*100,\"%\")\n",
    "\n",
    "#Classification report for labelled dataset\n",
    "report_labelled_data = classification_report(labelled_test_dataset[\"spam\"], predicted_labelled_data)\n",
    "print(\"Classification_report: \\n\", report_labelled_data)\n",
    "\n",
    "#Constucting the confusion matrix and visualizing it using heatmap\n",
    "confusion_matrix_labelled_data = confusion_matrix(labelled_test_dataset[\"spam\"], predicted_labelled_data)\n",
    "sns.heatmap(confusion_matrix_labelled_data, annot=True)\n"
   ]
  },
  {
   "cell_type": "markdown",
   "metadata": {
    "deletable": false,
    "editable": false
   },
   "source": [
    "### Unsupervised classification[5 points] \n",
    "\n",
    "#### Test your Classifier using  the TestDataset.csv dataset. This dataset is not labelled so kindly predict the labels and visualise it[5 points]."
   ]
  },
  {
   "cell_type": "code",
   "execution_count": 8,
   "metadata": {
    "deletable": false
   },
   "outputs": [
    {
     "name": "stdout",
     "output_type": "stream",
     "text": [
      "Bar chart:-\n",
      "\n"
     ]
    },
    {
     "data": {
      "image/png": "[encoded data removed]",
      "text/plain": [
       "<Figure size 432x288 with 1 Axes>"
      ]
     },
     "metadata": {
      "needs_background": "light"
     },
     "output_type": "display_data"
    },
    {
     "name": "stdout",
     "output_type": "stream",
     "text": [
      "Pie chart:-\n",
      "\n"
     ]
    },
    {
     "data": {
      "image/png": "[encoded data removed]",
      "text/plain": [
       "<Figure size 432x288 with 1 Axes>"
      ]
     },
     "metadata": {},
     "output_type": "display_data"
    }
   ],
   "source": [
    "# Test the classifier\n",
    "#your code here\n",
    "\n",
    "#Loading the data\n",
    "unlabelled_test_dataset = pd.read_csv('TestDataset.csv')\n",
    "unlabelled_test_dataset.columns = ['type']\n",
    "\n",
    "#Prediction of unlabelled dataset and plotting it\n",
    "predicted_unlabelled_data = My_pipeline.predict(unlabelled_test_dataset[\"type\"])\n",
    "spam_count_predicted_unlabelled_data = np.count_nonzero(predicted_unlabelled_data == 1)\n",
    "ham_count_predicted_unlabelled_data = np.count_nonzero(predicted_unlabelled_data == 0)\n",
    "\n",
    "\n",
    "print(\"Bar chart:-\\n\")\n",
    "plt.bar([\"ham\", \"spam\"], [ham_count_predicted_unlabelled_data,spam_count_predicted_unlabelled_data], color=['blue', 'red'],label=labels)\n",
    "plt.title(\"Visualization of unlabelled dataset\")\n",
    "plt.xlabel='length'\n",
    "plt.ylabel='number of messages'\n",
    "plt.show()\n",
    "\n",
    "print(\"Pie chart:-\\n\")\n",
    "labels = 'spam', 'ham'\n",
    "fig2, ax2 = plt.subplots()\n",
    "ax2.pie([ham_count_predicted_unlabelled_data,spam_count_predicted_unlabelled_data], labels=labels,colors=['blue', 'red'],autopct='%1.1f%%')\n",
    "plt.title(\"Visualization of unlabelled dataset\")\n",
    "ax2.axis('equal')\n",
    "plt.show()"
   ]
  },
  {
   "cell_type": "markdown",
   "metadata": {
    "deletable": false,
    "editable": false
   },
   "source": [
    "## Step 6:- Cheat the classifier[20 points]\n",
    "\n",
    "#### Try to cheat the classifier by adding \"good words\" to the end of test dataset(TestDataset.csv) e.g:- Oh! no share Market has fallen down by $100,000 due to Corona outbreak... try mixing up spam and ham words see how the classifier works. Output the results in a good format to validate your work[15 points]  "
   ]
  },
  {
   "cell_type": "code",
   "execution_count": 9,
   "metadata": {
    "deletable": false
   },
   "outputs": [
    {
     "name": "stdout",
     "output_type": "stream",
     "text": [
      "Accuracy: 80.0 %\n",
      "Classification_report: \n",
      "               precision    recall  f1-score   support\n",
      "\n",
      "           0       0.80      1.00      0.89         8\n",
      "           1       0.00      0.00      0.00         2\n",
      "\n",
      "    accuracy                           0.80        10\n",
      "   macro avg       0.40      0.50      0.44        10\n",
      "weighted avg       0.64      0.80      0.71        10\n",
      "\n",
      "Heatmap of confusion matrix\n"
     ]
    },
    {
     "name": "stderr",
     "output_type": "stream",
     "text": [
      "/usr/local/lib/python3.5/dist-packages/sklearn/metrics/_classification.py:1272: UndefinedMetricWarning: Precision and F-score are ill-defined and being set to 0.0 in labels with no predicted samples. Use `zero_division` parameter to control this behavior.\n",
      "  _warn_prf(average, modifier, msg_start, len(result))\n"
     ]
    },
    {
     "data": {
      "text/plain": [
       "<matplotlib.axes._subplots.AxesSubplot at 0x7f3a59e35160>"
      ]
     },
     "execution_count": 9,
     "metadata": {},
     "output_type": "execute_result"
    },
    {
     "data": {
      "image/png": "[encoded data removed]",
      "text/plain": [
       "<Figure size 432x288 with 2 Axes>"
      ]
     },
     "metadata": {
      "needs_background": "light"
     },
     "output_type": "display_data"
    }
   ],
   "source": [
    "# Cheat the classifier\n",
    "#your code here\n",
    "cheating_classifier_msgs = ['CONGRATULATIONS!! Status of your application for HBRS MAS course...', \n",
    "              'Urgent! Hello bro, our group has planned for a movie in 30 minutes, Be ready ASAP, i will pick you up...', \n",
    "              'Go until jurong point, crazy..Available only... ', \n",
    "              'Happy morning, lets have breakfast at ... after the jog', \n",
    "              'CONGRATULATIONS!! Your Number was selected as the Winner in Power Lottery Competition, Kindly send your Details...', \n",
    "              'As per you request, \"oh baby\" song has been set as your caller tune', \n",
    "              'Dear Beneficiary, We want to confirm to you that our Bank {HSBC}, USA, has issued an ATM MasterCard Cash of $500,000 USD in mark', \n",
    "              'Hello Prabhudev, Welcome to Blizzard services!You have successfully created the following Blizzard Account:', \n",
    "              'Dear Kaushik, Your SmartStatement was created and linkind to this email ...',\n",
    "              'Dear customer, due to schedule maintainence activity net and mobile banking will not be available from 10-10-2020 ...']\n",
    "cheating_classifier_msg_values = [0,0,0,0,1,0,1,0,0,0]\n",
    "data = {'text': cheating_classifier_msgs, 'spam': cheating_classifier_msg_values}\n",
    "cheating_classifier_dataset = pd.DataFrame(data=data)\n",
    "\n",
    "predicted_cheating_classifier_dataset = My_pipeline.predict(cheating_classifier_dataset[\"text\"])\n",
    "\n",
    "accuracy_cheating_classifier_dataset = accuracy_score(cheating_classifier_dataset[\"spam\"], predicted_cheating_classifier_dataset)\n",
    "print(\"Accuracy:\",accuracy_cheating_classifier_dataset*100,\"%\")\n",
    "\n",
    "#Building a text report showing the main classification metrics\n",
    "report_cheating_classifier_dataset = classification_report(cheating_classifier_dataset[\"spam\"], predicted_cheating_classifier_dataset)\n",
    "print(\"Classification_report: \\n\", report_cheating_classifier_dataset)\n",
    "\n",
    "#Constucting the confusion matrix and visualizing it \n",
    "confusion_matrix_cheating_classifier_dataset = confusion_matrix(cheating_classifier_dataset[\"spam\"], predicted_cheating_classifier_dataset)\n",
    "print(\"Heatmap of confusion matrix\")\n",
    "sns.heatmap(confusion_matrix_cheating_classifier_dataset, annot=True)\n",
    "\n",
    "\n"
   ]
  },
  {
   "cell_type": "markdown",
   "metadata": {
    "deletable": false,
    "editable": false
   },
   "source": [
    "#### Write your analysis of how you intended to cheat the classifier and how it performed in few words (provide your inference)[5 points]"
   ]
  },
  {
   "cell_type": "markdown",
   "metadata": {
    "deletable": false
   },
   "source": [
    "**Give your expalanation here**\n",
    "\n",
    "Using the labelled inputs like ham and spam messages the classifier is trained and by this the classifier will have the ability to classify the pure ham and spam messages, the Naive Bayes Classifier uses Bayes Theorem of Probability\n",
    "\n",
    "For Cheating the classifier, we will add some spam words with the ham messages so as to test the classifier's accuracy whether is it working as intended.\n",
    "\n",
    "***Inference:***\n",
    "Cheat_Data: Created 10 messages which has both ham and spam words in their message.\n",
    "The Ham and Spam key words were mixed up to form the cheat messages, in our messages \"CONGRATUALTIONS\" is both in ham and spam , but the detection was upto the classifies to detect the same. Based on the content of the full message the classifier was able to correctly detect whether it was a ham or spam message.\n",
    "\n",
    "\n",
    "\n",
    "***One More observation***\n",
    "The accuracy of the model depends on the preprocess of training data. If preprocess is done properly the accuracy increases if the data is not preprocessed properly then the accuracy decreases.\n"
   ]
  },
  {
   "cell_type": "markdown",
   "metadata": {
    "deletable": false,
    "editable": false
   },
   "source": [
    "### Help\n",
    "\n",
    "<a href=\"https://towardsdatascience.com/spam-filtering-using-naive-bayes-98a341224038\" target=\"_top\">Spam classification</a><br>\n",
    "<a href=\"https://seaborn.pydata.org/generated/seaborn.heatmap.html\" target=\"_top\">Seaborn Heatmap</a><br>\n",
    "<a href=\"https://scikit-learn.org/stable/modules/naive_bayes.html\" target=\"_top\">Sklearn Naive Bayes</a><br>\n",
    "<a href=\"https://scikit-learn.org/stable/modules/model_evaluation.html\" target=\"_top\">Sklearn Metrics</a><br>\n",
    "<a href=\"https://pandas.pydata.org/docs/getting_started/index.html#getting-started\" target=\"_top\">Intro to Pandas</a>"
   ]
  }
 ],
 "metadata": {
  "kernelspec": {
   "display_name": "Python 3",
   "language": "python",
   "name": "python3"
  },
  "language_info": {
   "codemirror_mode": {
    "name": "ipython",
    "version": 3
   },
   "file_extension": ".py",
   "mimetype": "text/x-python",
   "name": "python",
   "nbconvert_exporter": "python",
   "pygments_lexer": "ipython3",
   "version": "3.8.10"
  }
 },
 "nbformat": 4,
 "nbformat_minor": 2
}
